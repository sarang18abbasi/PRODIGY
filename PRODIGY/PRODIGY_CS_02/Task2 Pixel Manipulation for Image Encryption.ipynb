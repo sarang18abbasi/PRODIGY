{
 "cells": [
  {
   "cell_type": "code",
   "execution_count": 2,
   "id": "0d82f733",
   "metadata": {},
   "outputs": [
    {
     "name": "stdout",
     "output_type": "stream",
     "text": [
      "Enter encryption key (number): 2\n",
      "Do you want to Encrypt (E) or Decrypt (D)? e\n"
     ]
    },
    {
     "ename": "ValueError",
     "evalue": "too many values to unpack (expected 3)",
     "output_type": "error",
     "traceback": [
      "\u001b[1;31m---------------------------------------------------------------------------\u001b[0m",
      "\u001b[1;31mValueError\u001b[0m                                Traceback (most recent call last)",
      "Cell \u001b[1;32mIn[2], line 39\u001b[0m\n\u001b[0;32m     36\u001b[0m image_path \u001b[38;5;241m=\u001b[39m \u001b[38;5;124mr\u001b[39m\u001b[38;5;124m\"\u001b[39m\u001b[38;5;124mC:\u001b[39m\u001b[38;5;124m\\\u001b[39m\u001b[38;5;124mUsers\u001b[39m\u001b[38;5;124m\\\u001b[39m\u001b[38;5;124mLENOVO\u001b[39m\u001b[38;5;124m\\\u001b[39m\u001b[38;5;124mDesktop\u001b[39m\u001b[38;5;124m\\\u001b[39m\u001b[38;5;124m1.png\u001b[39m\u001b[38;5;124m\"\u001b[39m  \u001b[38;5;66;03m# <-- Your image path\u001b[39;00m\n\u001b[0;32m     38\u001b[0m \u001b[38;5;28;01mif\u001b[39;00m choice \u001b[38;5;241m==\u001b[39m \u001b[38;5;124m\"\u001b[39m\u001b[38;5;124me\u001b[39m\u001b[38;5;124m\"\u001b[39m:\n\u001b[1;32m---> 39\u001b[0m     encrypt_image(image_path, \u001b[38;5;124m\"\u001b[39m\u001b[38;5;124mencrypted.png\u001b[39m\u001b[38;5;124m\"\u001b[39m, key_value)\n\u001b[0;32m     40\u001b[0m \u001b[38;5;28;01melif\u001b[39;00m choice \u001b[38;5;241m==\u001b[39m \u001b[38;5;124m\"\u001b[39m\u001b[38;5;124md\u001b[39m\u001b[38;5;124m\"\u001b[39m:\n\u001b[0;32m     41\u001b[0m     decrypt_image(image_path, \u001b[38;5;124m\"\u001b[39m\u001b[38;5;124mdecrypted.png\u001b[39m\u001b[38;5;124m\"\u001b[39m, key_value)\n",
      "Cell \u001b[1;32mIn[2], line 10\u001b[0m, in \u001b[0;36mencrypt_image\u001b[1;34m(input_path, output_path, key)\u001b[0m\n\u001b[0;32m      8\u001b[0m \u001b[38;5;28;01mfor\u001b[39;00m i \u001b[38;5;129;01min\u001b[39;00m \u001b[38;5;28mrange\u001b[39m(img\u001b[38;5;241m.\u001b[39msize[\u001b[38;5;241m0\u001b[39m]):  \u001b[38;5;66;03m# width\u001b[39;00m\n\u001b[0;32m      9\u001b[0m     \u001b[38;5;28;01mfor\u001b[39;00m j \u001b[38;5;129;01min\u001b[39;00m \u001b[38;5;28mrange\u001b[39m(img\u001b[38;5;241m.\u001b[39msize[\u001b[38;5;241m1\u001b[39m]):  \u001b[38;5;66;03m# height\u001b[39;00m\n\u001b[1;32m---> 10\u001b[0m         r, g, b \u001b[38;5;241m=\u001b[39m pixels[i, j]\n\u001b[0;32m     11\u001b[0m         pixels[i, j] \u001b[38;5;241m=\u001b[39m ((r \u001b[38;5;241m+\u001b[39m key) \u001b[38;5;241m%\u001b[39m \u001b[38;5;241m256\u001b[39m, (g \u001b[38;5;241m+\u001b[39m key) \u001b[38;5;241m%\u001b[39m \u001b[38;5;241m256\u001b[39m, (b \u001b[38;5;241m+\u001b[39m key) \u001b[38;5;241m%\u001b[39m \u001b[38;5;241m256\u001b[39m)\n\u001b[0;32m     13\u001b[0m img\u001b[38;5;241m.\u001b[39msave(output_path)\n",
      "\u001b[1;31mValueError\u001b[0m: too many values to unpack (expected 3)"
     ]
    }
   ],
   "source": [
    "from PIL import Image\n",
    "\n",
    "# Encrypt image\n",
    "def encrypt_image(input_path, output_path, key):\n",
    "    img = Image.open(input_path)\n",
    "    pixels = img.load()\n",
    "\n",
    "    for i in range(img.size[0]):  # width\n",
    "        for j in range(img.size[1]):  # height\n",
    "            r, g, b = pixels[i, j]\n",
    "            pixels[i, j] = ((r + key) % 256, (g + key) % 256, (b + key) % 256)\n",
    "\n",
    "    img.save(output_path)\n",
    "    print(f\"Encrypted image saved as {output_path}\")\n",
    "\n",
    "# Decrypt image\n",
    "def decrypt_image(input_path, output_path, key):\n",
    "    img = Image.open(input_path)\n",
    "    pixels = img.load()\n",
    "\n",
    "    for i in range(img.size[0]):\n",
    "        for j in range(img.size[1]):\n",
    "            r, g, b = pixels[i, j]\n",
    "            pixels[i, j] = ((r - key) % 256, (g - key) % 256, (b - key) % 256)\n",
    "\n",
    "    img.save(output_path)\n",
    "    print(f\"Decrypted image saved as {output_path}\")\n",
    "\n",
    "\n",
    "# Example usage\n",
    "if __name__ == \"__main__\":\n",
    "    key_value = int(input(\"Enter encryption key (number): \"))\n",
    "\n",
    "    choice = input(\"Do you want to Encrypt (E) or Decrypt (D)? \").lower()\n",
    "\n",
    "    image_path = r\"C:\\Users\\LENOVO\\Desktop\\1.png\"  # <-- Your image path\n",
    "\n",
    "    if choice == \"e\":\n",
    "        encrypt_image(image_path, \"encrypted.png\", key_value)\n",
    "    elif choice == \"d\":\n",
    "        decrypt_image(image_path, \"decrypted.png\", key_value)\n",
    "    else:\n",
    "        print(\"Invalid choice!\")\n"
   ]
  },
  {
   "cell_type": "code",
   "execution_count": null,
   "id": "5f76be43",
   "metadata": {},
   "outputs": [],
   "source": []
  }
 ],
 "metadata": {
  "kernelspec": {
   "display_name": "Python 3 (ipykernel)",
   "language": "python",
   "name": "python3"
  },
  "language_info": {
   "codemirror_mode": {
    "name": "ipython",
    "version": 3
   },
   "file_extension": ".py",
   "mimetype": "text/x-python",
   "name": "python",
   "nbconvert_exporter": "python",
   "pygments_lexer": "ipython3",
   "version": "3.11.5"
  }
 },
 "nbformat": 4,
 "nbformat_minor": 5
}
