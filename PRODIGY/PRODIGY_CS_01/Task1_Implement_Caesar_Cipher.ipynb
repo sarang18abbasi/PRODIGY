{
 "cells": [
  {
   "cell_type": "code",
   "execution_count": 1,
   "id": "4a77becd",
   "metadata": {},
   "outputs": [
    {
     "name": "stdout",
     "output_type": "stream",
     "text": [
      "Enter your message: sarang\n",
      "Enter shift value: 2\n",
      "Encrypted Message: uctcpi\n",
      "Decrypted Message: sarang\n"
     ]
    }
   ],
   "source": [
    "# Caesar Cipher Implementation\n",
    "\n",
    "def caesar_encrypt(text, shift):\n",
    "    encrypted_text = \"\"\n",
    "    for char in text:\n",
    "        if char.isalpha():  # Encrypt only letters\n",
    "            base = ord('A') if char.isupper() else ord('a')\n",
    "            encrypted_text += chr((ord(char) - base + shift) % 26 + base)\n",
    "        else:\n",
    "            encrypted_text += char  # Keep spaces and punctuation as is\n",
    "    return encrypted_text\n",
    "\n",
    "def caesar_decrypt(text, shift):\n",
    "    return caesar_encrypt(text, -shift)  # Just reverse the shift\n",
    "\n",
    "# User Input\n",
    "message = input(\"Enter your message: \")\n",
    "shift_value = int(input(\"Enter shift value: \"))\n",
    "\n",
    "# Encrypt\n",
    "encrypted = caesar_encrypt(message, shift_value)\n",
    "print(\"Encrypted Message:\", encrypted)\n",
    "\n",
    "# Decrypt\n",
    "decrypted = caesar_decrypt(encrypted, shift_value)\n",
    "print(\"Decrypted Message:\", decrypted)\n"
   ]
  },
  {
   "cell_type": "code",
   "execution_count": null,
   "id": "8e294bad",
   "metadata": {},
   "outputs": [],
   "source": []
  }
 ],
 "metadata": {
  "kernelspec": {
   "display_name": "Python 3 (ipykernel)",
   "language": "python",
   "name": "python3"
  },
  "language_info": {
   "codemirror_mode": {
    "name": "ipython",
    "version": 3
   },
   "file_extension": ".py",
   "mimetype": "text/x-python",
   "name": "python",
   "nbconvert_exporter": "python",
   "pygments_lexer": "ipython3",
   "version": "3.11.5"
  }
 },
 "nbformat": 4,
 "nbformat_minor": 5
}
